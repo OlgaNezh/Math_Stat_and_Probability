{
 "cells": [
  {
   "cell_type": "markdown",
   "metadata": {},
   "source": [
    "### 1. Случайная непрерывная величина A имеет равномерное распределение на промежутке (200, 800]. Найдите ее среднее значение и дисперсию."
   ]
  },
  {
   "cell_type": "markdown",
   "metadata": {},
   "source": [
    "$M(x) = \\frac{a + b}{2} = \\frac{800 + 200}{2} = 500$"
   ]
  },
  {
   "cell_type": "markdown",
   "metadata": {},
   "source": [
    "$\\sigma^2 = \\frac{(b - a)^2}{12} = \\frac{(800 - 200)^2}{12} = 30000$"
   ]
  },
  {
   "cell_type": "markdown",
   "metadata": {},
   "source": [
    "### 2. О случайной непрерывной равномерно распределенной величине B известно, что ее дисперсия равна 0.2. Можно ли найти правую границу величины B и ее среднее значение зная, что левая граница равна 0.5? Если да, найдите ее.\n",
    "\n"
   ]
  },
  {
   "cell_type": "markdown",
   "metadata": {},
   "source": [
    "$\\sigma^2 = 0,2 \\;\\; a = 0,5$"
   ]
  },
  {
   "cell_type": "markdown",
   "metadata": {},
   "source": [
    "$\\sigma^2 = \\frac{(b - a)^2}{12} = \\frac{(b - 0,5)^2}{12} = 0,2; \\;\\; b - 0,5 = \\sqrt{12 \\cdot 0,2}$"
   ]
  },
  {
   "cell_type": "markdown",
   "metadata": {},
   "source": [
    "$b = 0,5 + \\sqrt{12 \\cdot 0,2} = 0,5 + \\sqrt{2,4} = 0,5 + 1,55 = 2,05$"
   ]
  },
  {
   "cell_type": "markdown",
   "metadata": {},
   "source": [
    "$M(x) = \\frac{a + b}{2} = \\frac{2,05 + 0,5}{2} = 1,275$"
   ]
  },
  {
   "cell_type": "markdown",
   "metadata": {},
   "source": [
    "### 3. Непрерывная случайная величина X распределена нормально и задана плотностью распределения\n",
    "f(x) = (1 / (4 * sqrt(2*pi))) * (exp(-((x+2)**2) / 32))\n",
    "Найдите:\n",
    "а). M(X)\n",
    "б). D(X)\n",
    "в). std(X) (среднее квадратичное отклонение)\n",
    "\n"
   ]
  },
  {
   "cell_type": "code",
   "execution_count": 1,
   "metadata": {},
   "outputs": [],
   "source": [
    "import numpy as np\n",
    "from IPython.display import Math"
   ]
  },
  {
   "cell_type": "code",
   "execution_count": 2,
   "metadata": {},
   "outputs": [
    {
     "name": "stdout",
     "output_type": "stream",
     "text": [
      "M(X) = 2\n",
      "D(X) = 16\n",
      "std(X) = 4\n"
     ]
    }
   ],
   "source": [
    "Math(r'f(x) = \\frac{1}{\\sigma\\sqrt{2pi}}e^{-\\frac{(x-a)^2}{2\\sigma^2}}')\n",
    "print(f\"M(X) = {2}\\nD(X) = {16}\\nstd(X) = {4}\")"
   ]
  },
  {
   "cell_type": "markdown",
   "metadata": {},
   "source": [
    "### 4. Рост взрослого населения города X имеет нормальное распределение. Причем, средний рост равен 174 см, а среднее квадратичное отклонение равно 8 см. Какова вероятность того, что случайным образом выбранный взрослый человек имеет рост:\n",
    "\n",
    "а). больше 182 см\n",
    "б). больше 190 см\n",
    "в). от 166 см до 190 см\n",
    "г). от 166 см до 182 см\n",
    "д). от 158 см до 190 см\n",
    "е). не выше 150 см или не ниже 190 см\n",
    "ё). не выше 150 см или не ниже 198 см\n",
    "ж). ниже 166 см.\n",
    "\n"
   ]
  },
  {
   "cell_type": "markdown",
   "metadata": {},
   "source": [
    "$M(X)=174$\n",
    "\n",
    "$\\sigma=8$\n",
    "\n",
    "$D(X)=64$\n",
    "\n",
    "$F(\\alpha<x<\\beta)=\\Phi(\\frac{\\beta-M(X)}{\\sigma})-\\Phi(\\frac{\\alpha-M(X)}{\\sigma})$\n",
    "\n",
    "а) x>182\n",
    "\n",
    "$F(182<x<\\infty)=\\Phi(\\frac{\\infty-174}{8})-\\Phi(\\frac{182-174}{8})=0,5-0,3413=0,1587$\n",
    "\n",
    "б) x>190\n",
    "\n",
    "$F(190<x<\\infty)=\\Phi(\\frac{\\infty-174}{8})-\\Phi(\\frac{190-174}{8})=0,5-0,4773=0,0227$\n",
    "\n",
    "в) 166<x<190\n",
    "\n",
    "$F(166<x<190)=\\Phi(\\frac{190-174}{8})-\\Phi(\\frac{166-174}{8})=0,4773+0,3413=0,8186$\n",
    "\n",
    "г) 166<x<182\n",
    "\n",
    "$F(166<x<182)=\\Phi(\\frac{182-174}{8})-\\Phi(\\frac{166-174}{8})=0,3413+0,3413=0,6826$\n",
    "\n",
    "д) 158<x<190\n",
    "\n",
    "$F(158<x<190)=\\Phi(\\frac{190-174}{8})-\\Phi(\\frac{158-174}{8})=0,4773+0,4773=0,9546$\n",
    "\n",
    "е) x<=150 или x>=190\n",
    "\n",
    "$F(x\\le150|x\\ge190)=\\Phi(\\frac{150-174}{8})-\\Phi(\\frac{-\\infty-174}{8})+\\Phi(\\frac{\\infty-174}{8})-\\Phi(\\frac{190-174}\n",
    "{8})=-0,4987+0,5+0,5-0,4773=0,024$\n",
    "\n",
    "ё) x<=150 или x>=198\n",
    "\n",
    "$F(x\\le150|x\\ge198)=\\Phi(\\frac{150-174}{8})-\\Phi(\\frac{-\\infty-174}{8})+\\Phi(\\frac{\\infty-174}{8})-\\Phi(\\frac{198-174}{8})=-0,4987+0,5+0,5-0,4987=0,0026$\n",
    "\n",
    "ж) x<166\n",
    "\n",
    "$F(-\\infty<x<166)=\\Phi(\\frac{166-174}{8})-\\Phi(\\frac{-\\infty-174}{8})=-0,3413+0,5=0,1587$"
   ]
  },
  {
   "cell_type": "markdown",
   "metadata": {},
   "source": [
    "### 5. На сколько сигм (средних квадратичных отклонений) отклоняется рост человека, равный 190 см, от математического ожидания роста в популяции, в которой M(X) = 178 см и D(X) = 25 кв.см?\n",
    "\n"
   ]
  },
  {
   "cell_type": "code",
   "execution_count": 5,
   "metadata": {},
   "outputs": [
    {
     "name": "stdout",
     "output_type": "stream",
     "text": [
      "Рост человека, равный 190 см, отклоняется от математического ожидания на 2.4 сигм\n"
     ]
    }
   ],
   "source": [
    "x = 190\n",
    "Mx = 178\n",
    "Dx = 25\n",
    "sigma = np.sqrt(Dx)\n",
    "t = (x - Mx) / sigma\n",
    "print(f'Рост человека, равный 190 см, отклоняется от математического ожидания на {t} сигм')"
   ]
  },
  {
   "cell_type": "code",
   "execution_count": null,
   "metadata": {},
   "outputs": [],
   "source": []
  }
 ],
 "metadata": {
  "kernelspec": {
   "display_name": "Python 3",
   "language": "python",
   "name": "python3"
  },
  "language_info": {
   "codemirror_mode": {
    "name": "ipython",
    "version": 3
   },
   "file_extension": ".py",
   "mimetype": "text/x-python",
   "name": "python",
   "nbconvert_exporter": "python",
   "pygments_lexer": "ipython3",
   "version": "3.8.5"
  }
 },
 "nbformat": 4,
 "nbformat_minor": 4
}
