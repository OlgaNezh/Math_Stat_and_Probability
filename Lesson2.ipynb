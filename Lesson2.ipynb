{
 "cells": [
  {
   "cell_type": "markdown",
   "metadata": {},
   "source": [
    "### 1. Вероятность того, что стрелок попадет в мишень, выстрелив один раз, равна 0.8. Стрелок выстрелил 100 раз. Найдите вероятность того, что стрелок попадет в цель ровно 85 раз.\n"
   ]
  },
  {
   "cell_type": "code",
   "execution_count": 1,
   "metadata": {},
   "outputs": [],
   "source": [
    "from math import factorial"
   ]
  },
  {
   "cell_type": "code",
   "execution_count": 2,
   "metadata": {},
   "outputs": [],
   "source": [
    "# n = 100 - число испытаний\n",
    "# p = 0.8 - вероятность появления события\n",
    "# x = 85 - количество событий\n",
    "# Используем формулу Бернулли \n",
    "\n",
    "def binomial_prob(n, p, x):\n",
    "    b = (factorial(n)/(factorial(x)*factorial(n-x)))*(p**x)*((1-p)**(n-x))\n",
    "    return b"
   ]
  },
  {
   "cell_type": "code",
   "execution_count": 3,
   "metadata": {},
   "outputs": [
    {
     "name": "stdout",
     "output_type": "stream",
     "text": [
      "Вероятность того, что стрелок попадет в цель ровно 85 раз равна: 0.0481\n"
     ]
    }
   ],
   "source": [
    "print('Вероятность того, что стрелок попадет в цель ровно 85 раз равна:', round(binomial_prob(100, 0.8, 85), 4))"
   ]
  },
  {
   "cell_type": "code",
   "execution_count": 4,
   "metadata": {},
   "outputs": [
    {
     "name": "stdout",
     "output_type": "stream",
     "text": [
      "Вероятность того, что стрелок попадет в цель ровно 85 раз равна: 0.0481\n"
     ]
    }
   ],
   "source": [
    "# другой вариант решения: \n",
    "\n",
    "from scipy import stats\n",
    "probability = stats.binom.pmf(85, 100, 0.8)\n",
    "print('Вероятность того, что стрелок попадет в цель ровно 85 раз равна:', round(probability, 4))\n"
   ]
  },
  {
   "cell_type": "markdown",
   "metadata": {},
   "source": [
    "### 2. Вероятность того, что лампочка перегорит в течение первого дня эксплуатации, равна 0.0004. В жилом комплексе после ремонта в один день включили 5000 новых лампочек. Какова вероятность, что ни одна из них не перегорит в первый день? Какова вероятность, что перегорят ровно две?\n"
   ]
  },
  {
   "cell_type": "code",
   "execution_count": 5,
   "metadata": {},
   "outputs": [],
   "source": [
    "from scipy import stats"
   ]
  },
  {
   "cell_type": "code",
   "execution_count": 6,
   "metadata": {},
   "outputs": [
    {
     "name": "stdout",
     "output_type": "stream",
     "text": [
      "Вероятность, что ни одна из них не перегорит в первый день равна: 0.1353\n"
     ]
    }
   ],
   "source": [
    "# сначала решаем первую часть задачи:\n",
    "\n",
    "probability = stats.binom.pmf(0, 5000, 0.0004)\n",
    "print('Вероятность, что ни одна из них не перегорит в первый день равна:',round(probability, 4))"
   ]
  },
  {
   "cell_type": "code",
   "execution_count": 7,
   "metadata": {},
   "outputs": [],
   "source": [
    "# Как и в первой задаче используем формулу Бернулли:\n",
    "# n = 5000 - число испытаний\n",
    "# p = 0.0004 - вероятность появления события\n",
    "# x = 0 - количество событий\n",
    "\n",
    "def binomial_prob(n, p, x):\n",
    "    b = (factorial(n)/(factorial(x)*factorial(n-x)))*(p**x)*((1-p)**(n-x))\n",
    "    return b"
   ]
  },
  {
   "cell_type": "code",
   "execution_count": 8,
   "metadata": {},
   "outputs": [
    {
     "name": "stdout",
     "output_type": "stream",
     "text": [
      "Вероятность, что ни одна из них не перегорит в первый день равна: 0.1353\n"
     ]
    }
   ],
   "source": [
    "print('Вероятность, что ни одна из них не перегорит в первый день равна:',round(binomial_prob(5000, 0.0004, 0), 4))"
   ]
  },
  {
   "cell_type": "code",
   "execution_count": 9,
   "metadata": {},
   "outputs": [
    {
     "name": "stdout",
     "output_type": "stream",
     "text": [
      "Вероятность, что перегорят ровно две равна: 0.2707\n"
     ]
    }
   ],
   "source": [
    "# вторая часть задачи:\n",
    "\n",
    "def binomial_prob(n, p, x):\n",
    "    b = (factorial(n)/(factorial(x)*factorial(n-x)))*(p**x)*((1-p)**(n-x))\n",
    "    return b\n",
    "print('Вероятность, что перегорят ровно две равна:', round(binomial_prob(5000, 0.0004, 2), 4))"
   ]
  },
  {
   "cell_type": "code",
   "execution_count": 10,
   "metadata": {},
   "outputs": [
    {
     "name": "stdout",
     "output_type": "stream",
     "text": [
      "Вероятность, что перегорят ровно две равна: 0.2707\n"
     ]
    }
   ],
   "source": [
    "probability = stats.binom.pmf(2, 5000, 0.0004)\n",
    "print('Вероятность, что перегорят ровно две равна:',round(probability, 4))\n"
   ]
  },
  {
   "cell_type": "markdown",
   "metadata": {},
   "source": [
    "### 3. Монету подбросили 144 раза. Какова вероятность, что орел выпадет ровно 70 раз?\n"
   ]
  },
  {
   "cell_type": "code",
   "execution_count": 11,
   "metadata": {},
   "outputs": [],
   "source": [
    "# n = 144 - число испытаний\n",
    "# p = 0.5 - вероятность появления события \n",
    "# x = 70 - количество событий\n",
    "# Применим формулу Бернулли для решения задачи\n",
    "\n",
    "def binomial_prob(n, p, x):\n",
    "    b = (factorial(n)/(factorial(x)*factorial(n-x)))*(p**x)*((1-p)**(n-x))\n",
    "    return b"
   ]
  },
  {
   "cell_type": "code",
   "execution_count": 13,
   "metadata": {},
   "outputs": [
    {
     "name": "stdout",
     "output_type": "stream",
     "text": [
      "Вероятность того, что орел выпадет ровно 70 раз равна: 0.0628\n"
     ]
    }
   ],
   "source": [
    "print('Вероятность того, что орел выпадет ровно 70 раз равна:', round(binomial_prob(144, 0.5, 70), 4))"
   ]
  },
  {
   "cell_type": "markdown",
   "metadata": {},
   "source": [
    "### 4. В первом ящике находится 10 мячей, из которых 7 - белые. Во втором ящике - 11 мячей, из которых 9 белых. Из каждого ящика вытаскивают случайным образом по два мяча. Какова вероятность того, что все мячи белые? Какова вероятность того, что ровно два мяча белые? Какова вероятность того, что хотя бы один мяч белый?"
   ]
  },
  {
   "cell_type": "code",
   "execution_count": 21,
   "metadata": {},
   "outputs": [],
   "source": [
    "import numpy\n",
    "from math import factorial\n",
    "from math import exp"
   ]
  },
  {
   "cell_type": "code",
   "execution_count": 22,
   "metadata": {},
   "outputs": [],
   "source": [
    "class Formulas():\n",
    "    @staticmethod\n",
    "    def combinations(n,k):\n",
    "        return int(factorial(n) / (factorial(k)*factorial(n-k)))\n",
    "    \n",
    "    @staticmethod\n",
    "    def permutations(n):\n",
    "        return int(factorial(n))\n",
    "    \n",
    "    @staticmethod\n",
    "    def arrangements(n, k):\n",
    "        return int(factorial(n) / factorial(n - k))\n",
    "    \n",
    "    @staticmethod\n",
    "    def probability(n, m):\n",
    "        return m / n\n",
    "    \n",
    "    @staticmethod\n",
    "    def binomial_distribution(n, k, p, q):\n",
    "        prob = Formulas.combinations(n, k) * (p**k) * (q**(n-k))\n",
    "        return prob\n",
    "    \n",
    "    @staticmethod\n",
    "    def puasson_distribution(m, lamb):\n",
    "        prob = ((lamb**m) / factorial(m)) * (exp(-lamb))\n",
    "        return prob"
   ]
  },
  {
   "cell_type": "code",
   "execution_count": 23,
   "metadata": {},
   "outputs": [
    {
     "name": "stdout",
     "output_type": "stream",
     "text": [
      "вероятность того, что все мячи белые: 0.305\n",
      "Вероятность того, что ровно два мяча белые: 0.205\n",
      "вероятность того, что хотя бы один мяч белый: 0.999\n"
     ]
    }
   ],
   "source": [
    "# Какова вероятность того, что все мячи белые?\n",
    "# Найдем вероятности того, что в каждой корзине взяли 2 белых мяча\n",
    "prob_one = (7 / 10) * (6 / 9)\n",
    "prob_two = (9 / 11) * (8/10)\n",
    "\n",
    "# Используем формулу полной вероятности \n",
    "prob_all_white = prob_one * prob_two\n",
    "print(f\"вероятность того, что все мячи белые: {prob_all_white:.3f}\")\n",
    "\n",
    "# Какова вероятность того, что ровно два мяча белые?\n",
    "# Рассмотрим несколько вариантов:\n",
    "# Достали 2 белых из первого ящика и 2 черных из второго\n",
    "prob_two_white_from_one = Formulas.combinations(7, 2) / Formulas.combinations(10, 2)\n",
    "prob_two_black_from_two =  Formulas.combinations(2, 2) / Formulas.combinations(11, 2)\n",
    "prob_first = prob_two_white_from_one * prob_two_black_from_two \n",
    "\n",
    "# Достали из первой 2 черных, из второго 2 белых\n",
    "prob_two_black_from_one = Formulas.combinations(3, 2) / Formulas.combinations(10, 2)\n",
    "prob_two_white_from_two = Formulas.combinations(9, 2) / Formulas.combinations(11, 2)\n",
    "prob_second = prob_two_black_from_one * prob_two_white_from_two\n",
    "\n",
    "# Достали 1 белый из первой, 1 белый из второй\n",
    "prob_one_white_one_black_from_one = (Formulas.combinations(7, 1) * Formulas.combinations(3, 1)\n",
    "                                    ) / Formulas.combinations(10, 2)\n",
    "prob_one_white_one_black_from_two = (Formulas.combinations(9, 1) * Formulas.combinations(2, 1)\n",
    "                                    ) / Formulas.combinations(11, 2)\n",
    "prob_third = prob_one_white_one_black_from_one * prob_one_white_one_black_from_two\n",
    "\n",
    "res_task_two = prob_first + prob_second + prob_third\n",
    "print(f\"Вероятность того, что ровно два мяча белые: {res_task_two:.3f}\")\n",
    "\n",
    "\n",
    "# Какова вероятность того, что хотя бы один мяч белый?\n",
    "# Найдем вероятность того, что будут все черные\n",
    "prob_all_black = (3 / 10) * (2 / 9) * (2 / 11) * (1 / 10)\n",
    "prob_res = 1 - prob_all_black\n",
    "print(f\"вероятность того, что хотя бы один мяч белый: {prob_res:.3f}\")"
   ]
  },
  {
   "cell_type": "code",
   "execution_count": null,
   "metadata": {},
   "outputs": [],
   "source": []
  }
 ],
 "metadata": {
  "kernelspec": {
   "display_name": "Python 3",
   "language": "python",
   "name": "python3"
  },
  "language_info": {
   "codemirror_mode": {
    "name": "ipython",
    "version": 3
   },
   "file_extension": ".py",
   "mimetype": "text/x-python",
   "name": "python",
   "nbconvert_exporter": "python",
   "pygments_lexer": "ipython3",
   "version": "3.8.5"
  }
 },
 "nbformat": 4,
 "nbformat_minor": 4
}
