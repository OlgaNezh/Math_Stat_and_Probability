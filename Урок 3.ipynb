{
 "cells": [
  {
   "cell_type": "markdown",
   "metadata": {},
   "source": [
    "### 1. Даны значения зарплат из выборки выпускников: 100, 80, 75, 77, 89, 33, 45, 25, 65, 17, 30, 24, 57, 55, 70, 75, 65, 84, 90, 150. Посчитать (желательно без использования статистических методов наподобие std, var, mean) среднее арифметическое, среднее квадратичное отклонение, смещенную и несмещенную оценки дисперсий для данной выборки."
   ]
  },
  {
   "cell_type": "code",
   "execution_count": 2,
   "metadata": {},
   "outputs": [],
   "source": [
    "import numpy as np\n",
    "import pandas as pd\n",
    "import matplotlib.pyplot as plt\n",
    "import warnings\n",
    "warnings.filterwarnings('ignore')"
   ]
  },
  {
   "cell_type": "code",
   "execution_count": 9,
   "metadata": {},
   "outputs": [],
   "source": [
    "vals = [100, 80, 75, 77, 89, 33, 45, 25, 65, 17, 30, 24, 57, 55, 70, 75, 65, 84, 90, 150]\n",
    "n = len(vals)"
   ]
  },
  {
   "cell_type": "markdown",
   "metadata": {},
   "source": [
    "Среднее арифметическое"
   ]
  },
  {
   "cell_type": "code",
   "execution_count": 10,
   "metadata": {},
   "outputs": [
    {
     "data": {
      "text/plain": [
       "65.3"
      ]
     },
     "execution_count": 10,
     "metadata": {},
     "output_type": "execute_result"
    }
   ],
   "source": [
    "M_x = sum(vals) / n\n",
    "M_x"
   ]
  },
  {
   "cell_type": "markdown",
   "metadata": {},
   "source": [
    "Дисперсия"
   ]
  },
  {
   "cell_type": "code",
   "execution_count": 11,
   "metadata": {},
   "outputs": [
    {
     "data": {
      "text/plain": [
       "950.11"
      ]
     },
     "execution_count": 11,
     "metadata": {},
     "output_type": "execute_result"
    }
   ],
   "source": [
    "dispersia = sum([(val - M_x)**2 for val in vals]) / n\n",
    "dispersia"
   ]
  },
  {
   "cell_type": "markdown",
   "metadata": {},
   "source": [
    "Несмещенная оценка дисперсии"
   ]
  },
  {
   "cell_type": "code",
   "execution_count": 12,
   "metadata": {},
   "outputs": [
    {
     "data": {
      "text/plain": [
       "1000.1157894736842"
      ]
     },
     "execution_count": 12,
     "metadata": {},
     "output_type": "execute_result"
    }
   ],
   "source": [
    "dispersia_nesm = sum([(val - M_x)**2 for val in vals]) / (n - 1)\n",
    "dispersia_nesm"
   ]
  },
  {
   "cell_type": "markdown",
   "metadata": {},
   "source": [
    "Среднее квадратичное отклонение"
   ]
  },
  {
   "cell_type": "code",
   "execution_count": 13,
   "metadata": {},
   "outputs": [
    {
     "data": {
      "text/plain": [
       "30.823854398825596"
      ]
     },
     "execution_count": 13,
     "metadata": {},
     "output_type": "execute_result"
    }
   ],
   "source": [
    "sigma = (dispersia)**0.5\n",
    "sigma"
   ]
  },
  {
   "cell_type": "markdown",
   "metadata": {},
   "source": [
    "### 2. В первом ящике находится 8 мячей, из которых 5 - белые. Во втором ящике - 12 мячей, из которых 5 белых. Из первого ящика вытаскивают случайным образом два мяча, из второго - 4. Какова вероятность того, что 3 мяча белые?"
   ]
  },
  {
   "cell_type": "markdown",
   "metadata": {},
   "source": [
    "$P = \\frac{C_5^2 \\cdot C_3^0}{C_8^2} \\cdot \\frac{C_5^1 \\cdot C_7^3}{C_{12}^4} + \\frac{C_5^1 \\cdot C_3^1}{C_8^2} \\cdot \\frac{C_5^2 \\cdot C_7^2}{C_{12}^4} + \\frac{C_5^0 \\cdot C_3^2}{C_8^2} \\cdot \\frac{C_5^3 \\cdot C_7^1}{C_{12}^4} = \\frac{10 \\cdot 1}{28} \\cdot \\frac{5 \\cdot 35}{495} + \\frac{5 \\cdot 3}{28} \\cdot \\frac{10 \\cdot 21}{495} + \\frac{1 \\cdot 3}{28} \\cdot \\frac{10 \\cdot 7}{495} = \\frac{1750 + 3150 + 210}{13860} = \\frac{5110}{13860} = 0,368686$\n",
    "\n",
    "$C_5^2 = \\frac{5!}{2! \\cdot 3!} = \\frac{4 \\cdot 5}{1 \\cdot 2} = 10$\n",
    "\n",
    "$C_8^2 = \\frac{8!}{2! \\cdot 6!} = \\frac{7 \\cdot 8}{1 \\cdot 2} = 28$\n",
    "\n",
    "$C_{12}^4 = \\frac{12!}{4! \\cdot 8!} = \\frac{12 \\cdot 11 \\cdot 10 \\cdot 9}{1 \\cdot 2 \\cdot 3 \\cdot 4} = 495$\n",
    "\n",
    "$C_7^3 = \\frac{7!}{3! \\cdot 4!} = \\frac{5 \\cdot 6 \\cdot 7}{1 \\cdot 2 \\cdot 3} = 35$\n",
    "\n",
    "$C_7^2 = \\frac{7!}{2! \\cdot 5!} = \\frac{6 \\cdot 7}{1 \\cdot 2} = 21$\n",
    "\n",
    "$C_5^3 = \\frac{5!}{2! \\cdot 3!} = \\frac{4 \\cdot 5}{2} = 10$"
   ]
  },
  {
   "cell_type": "markdown",
   "metadata": {},
   "source": [
    "### 3. На соревновании по биатлону один из трех спортсменов стреляет и попадает в мишень. Вероятность попадания для первого спортсмена равна 0.9, для второго — 0.8, для третьего — 0.6. Найти вероятность того, что выстрел произведен: a). первым спортсменом б). вторым спортсменом в). третьим спортсменом."
   ]
  },
  {
   "cell_type": "markdown",
   "metadata": {},
   "source": [
    "$P_1 = \\frac{0,33 \\cdot 0,9}{0,33 \\cdot 0,9 + 0,33 \\cdot 0,8 + 0,33 \\cdot 0,6} = \\frac{0,297}{0,759} = 0,3913$\n",
    "\n",
    "$P_2 = \\frac{0,33 \\cdot 0,8}{0,33 \\cdot 0,9 + 0,33 \\cdot 0,8 + 0,33 \\cdot 0,6} = \\frac{0,264}{0,759} = 0,3478$\n",
    "\n",
    "$P_3 = \\frac{0,33 \\cdot 0,6}{0,33 \\cdot 0,9 + 0,33 \\cdot 0,8 + 0,33 \\cdot 0,6} = \\frac{0,198}{0,759} = 0,26$"
   ]
  },
  {
   "cell_type": "markdown",
   "metadata": {},
   "source": [
    "### 4. В университет на факультеты A и B поступило равное количество студентов, а на факультет C студентов поступило столько же, сколько на A и B вместе. Вероятность того, что студент факультета A сдаст первую сессию, равна 0.8. Для студента факультета B эта вероятность равна 0.7, а для студента факультета C - 0.9. Студент сдал первую сессию. Какова вероятность, что он учится: a). на факультете A б). на факультете B в). на факультете C?"
   ]
  },
  {
   "cell_type": "markdown",
   "metadata": {},
   "source": [
    "На факультетах А и В учится по 25% поступивших, а на факультете С учится 50% поступивших."
   ]
  },
  {
   "cell_type": "markdown",
   "metadata": {},
   "source": [
    "$P_1 = \\frac{0,25 \\cdot 0,8}{0,25 \\cdot 0,8 + 0,25 \\cdot 0,7 + 0,5 \\cdot 0,9} = \\frac{0,2}{0,825} = 0,2424$\n",
    "\n",
    "$P_2 = \\frac{0,25 \\cdot 0,7}{0,25 \\cdot 0,8 + 0,25 \\cdot 0,7 + 0,5 \\cdot 0,9} = \\frac{0,175}{0,825} = 0,2121$\n",
    "\n",
    "$P_3 = \\frac{0,5 \\cdot 0,9}{0,25 \\cdot 0,8 + 0,25 \\cdot 0,7 + 0,5 \\cdot 0,9} = \\frac{0,45}{0,825} = 0,5454$"
   ]
  },
  {
   "cell_type": "markdown",
   "metadata": {},
   "source": [
    "### 5. Устройство состоит из трех деталей. Для первой детали вероятность выйти из строя в первый месяц равна 0.1, для второй - 0.2, для третьей - 0.25. Какова вероятность того, что в первый месяц выйдут из строя: а). все детали б). только две детали в). хотя бы одна деталь г). от одной до двух деталей?"
   ]
  },
  {
   "cell_type": "markdown",
   "metadata": {},
   "source": [
    "$P_1 = 0,1 \\;\\; P_2 = 0,2 \\;\\; P_3 = 0,25 \\;\\; q_1 = 0,9 \\;\\; q_2 = 0,8 \\;\\; q_3 = 0,75$\n",
    "\n",
    "а) $P = P_1 \\cdot P_2 \\cdot P_3 = 0,1 \\cdot 0,2 \\cdot 0,3 = 0,005$\n",
    "\n",
    "б) $P = P_1 \\cdot P_2 \\cdot q_3 + P_1 \\cdot P_3 \\cdot q_2 + P_2 \\cdot P_3 \\cdot q_1 = 0,1 \\cdot 0,2 \\cdot 0,75 + 0,1 \\cdot 0,25 \\cdot 0,8 + 0,2 \\cdot 0,25 \\cdot 0,9 = 0,015 + 0,02 + 0,045 = 0,08$\n",
    "\n",
    "в) $P = 1 - q = 1 - q_1 \\cdot q_2 \\cdot q_3 = 1 - 0,9 \\cdot 0,8 \\cdot 0,75 = 0,46$"
   ]
  },
  {
   "cell_type": "markdown",
   "metadata": {},
   "source": [
    "для последнего пункта необходимо из 1 вычесть вероятность, что ни одна деталь не сломается и что сломаются все"
   ]
  },
  {
   "cell_type": "markdown",
   "metadata": {},
   "source": [
    "г) $P = 1 - q - 0,005 = 1 - 0,9 \\cdot 0,8 \\cdot 0,75 - 0,005 = 0,455$"
   ]
  },
  {
   "cell_type": "code",
   "execution_count": null,
   "metadata": {},
   "outputs": [],
   "source": []
  }
 ],
 "metadata": {
  "kernelspec": {
   "display_name": "Python 3",
   "language": "python",
   "name": "python3"
  },
  "language_info": {
   "codemirror_mode": {
    "name": "ipython",
    "version": 3
   },
   "file_extension": ".py",
   "mimetype": "text/x-python",
   "name": "python",
   "nbconvert_exporter": "python",
   "pygments_lexer": "ipython3",
   "version": "3.8.5"
  }
 },
 "nbformat": 4,
 "nbformat_minor": 4
}
